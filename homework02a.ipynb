{
 "cells": [
  {
   "cell_type": "markdown",
   "metadata": {},
   "source": [
    "## Manhattan Restaurant Inspection Results\n",
    "This dataset provides restaurant inspections, violations, grades and adjudication information.\n",
    "1. https://data.cityofnewyork.us/Health/DOHMH-New-York-City-Restaurant-Inspection-Results/rs6k-p7g6\n",
    "2. The data set is collected by Department of Health and Mental Hygiene\n",
    "3. They started collecting around mid-2014 and I selected only restaurants in Manhattan due to the size of the dataset.\n",
    "4. This dataset is interesting because first it is a great way to see the rating of your favorite restaurants and their inspection results. Second, I am curious how they inspect and rate the restaurants.\n",
    "5. Questions to answer: \n",
    "    1. Correlation between geological area and grade?:\n",
    "        Will there be a place where all the food are graded A or is there a place that no places graded A? \n",
    "    2. Correlation between food type and grade?: \n",
    "        What kind of food type has highest grade/lowest grade? What are the common type of violation? \n",
    "    3. Correlation between Date and Grade? :\n",
    "        Will certain date, the inspector just got grumpy and gave bad grade?"
   ]
  },
  {
   "cell_type": "code",
   "execution_count": 2,
   "metadata": {},
   "outputs": [],
   "source": [
    "import pandas as pd\n",
    "import numpy as np\n",
    "import matplotlib.pyplot as plt"
   ]
  },
  {
   "cell_type": "markdown",
   "metadata": {},
   "source": [
    "# Part 1"
   ]
  },
  {
   "cell_type": "code",
   "execution_count": 57,
   "metadata": {},
   "outputs": [],
   "source": [
    "data=pd.read_csv('DOHMH_New_York_City_Restaurant_Inspection_Results.csv')"
   ]
  },
  {
   "cell_type": "code",
   "execution_count": 58,
   "metadata": {},
   "outputs": [
    {
     "data": {
      "text/html": [
       "<div>\n",
       "<style scoped>\n",
       "    .dataframe tbody tr th:only-of-type {\n",
       "        vertical-align: middle;\n",
       "    }\n",
       "\n",
       "    .dataframe tbody tr th {\n",
       "        vertical-align: top;\n",
       "    }\n",
       "\n",
       "    .dataframe thead th {\n",
       "        text-align: right;\n",
       "    }\n",
       "</style>\n",
       "<table border=\"1\" class=\"dataframe\">\n",
       "  <thead>\n",
       "    <tr style=\"text-align: right;\">\n",
       "      <th></th>\n",
       "      <th>CAMIS</th>\n",
       "      <th>DBA</th>\n",
       "      <th>BORO</th>\n",
       "      <th>BUILDING</th>\n",
       "      <th>STREET</th>\n",
       "      <th>ZIPCODE</th>\n",
       "      <th>PHONE</th>\n",
       "      <th>CUISINE DESCRIPTION</th>\n",
       "      <th>INSPECTION DATE</th>\n",
       "      <th>ACTION</th>\n",
       "      <th>VIOLATION CODE</th>\n",
       "      <th>VIOLATION DESCRIPTION</th>\n",
       "      <th>CRITICAL FLAG</th>\n",
       "      <th>SCORE</th>\n",
       "      <th>GRADE</th>\n",
       "      <th>GRADE DATE</th>\n",
       "      <th>RECORD DATE</th>\n",
       "      <th>INSPECTION TYPE</th>\n",
       "    </tr>\n",
       "  </thead>\n",
       "  <tbody>\n",
       "    <tr>\n",
       "      <th>0</th>\n",
       "      <td>40367728</td>\n",
       "      <td>MIMIS RESTAURANT &amp; BAR</td>\n",
       "      <td>MANHATTAN</td>\n",
       "      <td>984</td>\n",
       "      <td>SECOND AVENUE</td>\n",
       "      <td>10022.0</td>\n",
       "      <td>2126884692</td>\n",
       "      <td>Italian</td>\n",
       "      <td>01/15/2015</td>\n",
       "      <td>Violations were cited in the following area(s).</td>\n",
       "      <td>08A</td>\n",
       "      <td>Facility not vermin proof. Harborage or condit...</td>\n",
       "      <td>Not Critical</td>\n",
       "      <td>21.0</td>\n",
       "      <td>NaN</td>\n",
       "      <td>NaN</td>\n",
       "      <td>10/02/2018</td>\n",
       "      <td>Cycle Inspection / Initial Inspection</td>\n",
       "    </tr>\n",
       "    <tr>\n",
       "      <th>1</th>\n",
       "      <td>41424929</td>\n",
       "      <td>AAHELI</td>\n",
       "      <td>MANHATTAN</td>\n",
       "      <td>826</td>\n",
       "      <td>9 AVENUE</td>\n",
       "      <td>10019.0</td>\n",
       "      <td>2129699010</td>\n",
       "      <td>Indian</td>\n",
       "      <td>03/15/2016</td>\n",
       "      <td>Violations were cited in the following area(s).</td>\n",
       "      <td>10F</td>\n",
       "      <td>Non-food contact surface improperly constructe...</td>\n",
       "      <td>Not Critical</td>\n",
       "      <td>7.0</td>\n",
       "      <td>A</td>\n",
       "      <td>03/15/2016</td>\n",
       "      <td>10/02/2018</td>\n",
       "      <td>Cycle Inspection / Re-inspection</td>\n",
       "    </tr>\n",
       "    <tr>\n",
       "      <th>2</th>\n",
       "      <td>41661008</td>\n",
       "      <td>AMURA JAPANESE RESTAURANT</td>\n",
       "      <td>MANHATTAN</td>\n",
       "      <td>1567</td>\n",
       "      <td>2ND AVE</td>\n",
       "      <td>10028.0</td>\n",
       "      <td>2127721688</td>\n",
       "      <td>Japanese</td>\n",
       "      <td>09/15/2015</td>\n",
       "      <td>Violations were cited in the following area(s).</td>\n",
       "      <td>04N</td>\n",
       "      <td>Filth flies or food/refuse/sewage-associated (...</td>\n",
       "      <td>Critical</td>\n",
       "      <td>30.0</td>\n",
       "      <td>NaN</td>\n",
       "      <td>NaN</td>\n",
       "      <td>10/02/2018</td>\n",
       "      <td>Cycle Inspection / Initial Inspection</td>\n",
       "    </tr>\n",
       "    <tr>\n",
       "      <th>3</th>\n",
       "      <td>50048823</td>\n",
       "      <td>POMMES FRITES</td>\n",
       "      <td>MANHATTAN</td>\n",
       "      <td>128</td>\n",
       "      <td>MACDOUGAL ST</td>\n",
       "      <td>10012.0</td>\n",
       "      <td>2126741234</td>\n",
       "      <td>Other</td>\n",
       "      <td>06/21/2018</td>\n",
       "      <td>Violations were cited in the following area(s).</td>\n",
       "      <td>04N</td>\n",
       "      <td>Filth flies or food/refuse/sewage-associated (...</td>\n",
       "      <td>Critical</td>\n",
       "      <td>28.0</td>\n",
       "      <td>NaN</td>\n",
       "      <td>NaN</td>\n",
       "      <td>10/02/2018</td>\n",
       "      <td>Cycle Inspection / Initial Inspection</td>\n",
       "    </tr>\n",
       "    <tr>\n",
       "      <th>4</th>\n",
       "      <td>41599272</td>\n",
       "      <td>LE MOULIN A CAFE</td>\n",
       "      <td>MANHATTAN</td>\n",
       "      <td>1439</td>\n",
       "      <td>YORK AVENUE</td>\n",
       "      <td>10075.0</td>\n",
       "      <td>2122885088</td>\n",
       "      <td>CafÃ©/Coffee/Tea</td>\n",
       "      <td>05/13/2016</td>\n",
       "      <td>Violations were cited in the following area(s).</td>\n",
       "      <td>10E</td>\n",
       "      <td>Accurate thermometer not provided in refrigera...</td>\n",
       "      <td>Not Critical</td>\n",
       "      <td>7.0</td>\n",
       "      <td>A</td>\n",
       "      <td>05/13/2016</td>\n",
       "      <td>10/02/2018</td>\n",
       "      <td>Cycle Inspection / Initial Inspection</td>\n",
       "    </tr>\n",
       "  </tbody>\n",
       "</table>\n",
       "</div>"
      ],
      "text/plain": [
       "      CAMIS                        DBA       BORO BUILDING         STREET  \\\n",
       "0  40367728     MIMIS RESTAURANT & BAR  MANHATTAN      984  SECOND AVENUE   \n",
       "1  41424929                     AAHELI  MANHATTAN      826       9 AVENUE   \n",
       "2  41661008  AMURA JAPANESE RESTAURANT  MANHATTAN     1567        2ND AVE   \n",
       "3  50048823              POMMES FRITES  MANHATTAN      128   MACDOUGAL ST   \n",
       "4  41599272           LE MOULIN A CAFE  MANHATTAN     1439    YORK AVENUE   \n",
       "\n",
       "   ZIPCODE       PHONE CUISINE DESCRIPTION INSPECTION DATE  \\\n",
       "0  10022.0  2126884692             Italian      01/15/2015   \n",
       "1  10019.0  2129699010              Indian      03/15/2016   \n",
       "2  10028.0  2127721688            Japanese      09/15/2015   \n",
       "3  10012.0  2126741234               Other      06/21/2018   \n",
       "4  10075.0  2122885088    CafÃ©/Coffee/Tea      05/13/2016   \n",
       "\n",
       "                                            ACTION VIOLATION CODE  \\\n",
       "0  Violations were cited in the following area(s).            08A   \n",
       "1  Violations were cited in the following area(s).            10F   \n",
       "2  Violations were cited in the following area(s).            04N   \n",
       "3  Violations were cited in the following area(s).            04N   \n",
       "4  Violations were cited in the following area(s).            10E   \n",
       "\n",
       "                               VIOLATION DESCRIPTION CRITICAL FLAG  SCORE  \\\n",
       "0  Facility not vermin proof. Harborage or condit...  Not Critical   21.0   \n",
       "1  Non-food contact surface improperly constructe...  Not Critical    7.0   \n",
       "2  Filth flies or food/refuse/sewage-associated (...      Critical   30.0   \n",
       "3  Filth flies or food/refuse/sewage-associated (...      Critical   28.0   \n",
       "4  Accurate thermometer not provided in refrigera...  Not Critical    7.0   \n",
       "\n",
       "  GRADE  GRADE DATE RECORD DATE                        INSPECTION TYPE  \n",
       "0   NaN         NaN  10/02/2018  Cycle Inspection / Initial Inspection  \n",
       "1     A  03/15/2016  10/02/2018       Cycle Inspection / Re-inspection  \n",
       "2   NaN         NaN  10/02/2018  Cycle Inspection / Initial Inspection  \n",
       "3   NaN         NaN  10/02/2018  Cycle Inspection / Initial Inspection  \n",
       "4     A  05/13/2016  10/02/2018  Cycle Inspection / Initial Inspection  "
      ]
     },
     "execution_count": 58,
     "metadata": {},
     "output_type": "execute_result"
    }
   ],
   "source": [
    "data.head(5)"
   ]
  },
  {
   "cell_type": "code",
   "execution_count": 59,
   "metadata": {},
   "outputs": [
    {
     "data": {
      "text/plain": [
       "(149847, 18)"
      ]
     },
     "execution_count": 59,
     "metadata": {},
     "output_type": "execute_result"
    }
   ],
   "source": [
    "data.shape"
   ]
  },
  {
   "cell_type": "code",
   "execution_count": 74,
   "metadata": {},
   "outputs": [
    {
     "data": {
      "text/plain": [
       "CAMIS                      int64\n",
       "DBA                       object\n",
       "BORO                      object\n",
       "BUILDING                  object\n",
       "STREET                    object\n",
       "ZIPCODE                  float64\n",
       "PHONE                     object\n",
       "CUISINE DESCRIPTION       object\n",
       "INSPECTION DATE           object\n",
       "ACTION                    object\n",
       "VIOLATION CODE            object\n",
       "VIOLATION DESCRIPTION     object\n",
       "CRITICAL FLAG             object\n",
       "SCORE                    float64\n",
       "GRADE                     object\n",
       "GRADE DATE                object\n",
       "RECORD DATE               object\n",
       "INSPECTION TYPE           object\n",
       "dtype: object"
      ]
     },
     "execution_count": 74,
     "metadata": {},
     "output_type": "execute_result"
    }
   ],
   "source": [
    "data.dtypes"
   ]
  },
  {
   "cell_type": "markdown",
   "metadata": {},
   "source": [
    "## format of the data:\n",
    "1. Pandas DataFrame. The data has 149847 rows and 18 columns: each row represents a restaurant and the 18 columns describe the geographical info, date of inspection, violation reason, grade, type of cuisine and etc. \n",
    "2. With different columns have different type. For example, the first column is numpy.int64; and there are numpy.float64 for the ZIPCODE column; there are also Str.\n",
    "\n",
    "## Problems in the data:\n",
    "1. There are columns that are irrelevant, select them to form different sub dataset to tackle different problems\n",
    "2. The Grade has many NaN: Filter them\n",
    "3. rows need to be sorted cuisine type/zipcode and categorize each type to a number so that we can run stats\n",
    "4. the ZIPCODE is float, convert to int\n",
    "\n",
    "### Right now, I couldn't answer any of my questions...\n",
    "\n",
    "# Part 2"
   ]
  },
  {
   "cell_type": "code",
   "execution_count": 62,
   "metadata": {},
   "outputs": [],
   "source": [
    "#filter out all NaN grade rows\n",
    "data=data[data['GRADE'].notna()]"
   ]
  },
  {
   "cell_type": "code",
   "execution_count": 66,
   "metadata": {},
   "outputs": [],
   "source": [
    "#subdataset with zip and grade to understand the relationship between geography and grade\n",
    "data_zip=data[['ZIPCODE','GRADE','SCORE']]"
   ]
  },
  {
   "cell_type": "code",
   "execution_count": 68,
   "metadata": {},
   "outputs": [],
   "source": [
    "#filter out zip with NaN\n",
    "data_zip=data_zip[data_zip['ZIPCODE'].notna()] \n",
    "data_zip['ZIPCODE']=data_zip['ZIPCODE'].astype('int64')"
   ]
  },
  {
   "cell_type": "code",
   "execution_count": 70,
   "metadata": {},
   "outputs": [
    {
     "data": {
      "text/html": [
       "<div>\n",
       "<style scoped>\n",
       "    .dataframe tbody tr th:only-of-type {\n",
       "        vertical-align: middle;\n",
       "    }\n",
       "\n",
       "    .dataframe tbody tr th {\n",
       "        vertical-align: top;\n",
       "    }\n",
       "\n",
       "    .dataframe thead th {\n",
       "        text-align: right;\n",
       "    }\n",
       "</style>\n",
       "<table border=\"1\" class=\"dataframe\">\n",
       "  <thead>\n",
       "    <tr style=\"text-align: right;\">\n",
       "      <th></th>\n",
       "      <th>ZIPCODE</th>\n",
       "      <th>GRADE</th>\n",
       "      <th>SCORE</th>\n",
       "    </tr>\n",
       "  </thead>\n",
       "  <tbody>\n",
       "    <tr>\n",
       "      <th>1</th>\n",
       "      <td>10019</td>\n",
       "      <td>A</td>\n",
       "      <td>7.0</td>\n",
       "    </tr>\n",
       "    <tr>\n",
       "      <th>4</th>\n",
       "      <td>10075</td>\n",
       "      <td>A</td>\n",
       "      <td>7.0</td>\n",
       "    </tr>\n",
       "    <tr>\n",
       "      <th>5</th>\n",
       "      <td>10010</td>\n",
       "      <td>A</td>\n",
       "      <td>7.0</td>\n",
       "    </tr>\n",
       "    <tr>\n",
       "      <th>6</th>\n",
       "      <td>10002</td>\n",
       "      <td>A</td>\n",
       "      <td>3.0</td>\n",
       "    </tr>\n",
       "    <tr>\n",
       "      <th>10</th>\n",
       "      <td>10033</td>\n",
       "      <td>A</td>\n",
       "      <td>11.0</td>\n",
       "    </tr>\n",
       "  </tbody>\n",
       "</table>\n",
       "</div>"
      ],
      "text/plain": [
       "    ZIPCODE GRADE  SCORE\n",
       "1     10019     A    7.0\n",
       "4     10075     A    7.0\n",
       "5     10010     A    7.0\n",
       "6     10002     A    3.0\n",
       "10    10033     A   11.0"
      ]
     },
     "execution_count": 70,
     "metadata": {},
     "output_type": "execute_result"
    }
   ],
   "source": [
    "data_zip.head() # data subset 1, to examine question 1"
   ]
  },
  {
   "cell_type": "code",
   "execution_count": 76,
   "metadata": {},
   "outputs": [
    {
     "data": {
      "text/plain": [
       "ZIPCODE      int64\n",
       "GRADE       object\n",
       "SCORE      float64\n",
       "dtype: object"
      ]
     },
     "execution_count": 76,
     "metadata": {},
     "output_type": "execute_result"
    }
   ],
   "source": [
    "data_zip.dtypes"
   ]
  },
  {
   "cell_type": "code",
   "execution_count": 71,
   "metadata": {},
   "outputs": [],
   "source": [
    "data_food_type=data[['CUISINE DESCRIPTION','GRADE','SCORE']]#data subset 2, to examine question 2"
   ]
  },
  {
   "cell_type": "code",
   "execution_count": 73,
   "metadata": {},
   "outputs": [
    {
     "data": {
      "text/html": [
       "<div>\n",
       "<style scoped>\n",
       "    .dataframe tbody tr th:only-of-type {\n",
       "        vertical-align: middle;\n",
       "    }\n",
       "\n",
       "    .dataframe tbody tr th {\n",
       "        vertical-align: top;\n",
       "    }\n",
       "\n",
       "    .dataframe thead th {\n",
       "        text-align: right;\n",
       "    }\n",
       "</style>\n",
       "<table border=\"1\" class=\"dataframe\">\n",
       "  <thead>\n",
       "    <tr style=\"text-align: right;\">\n",
       "      <th></th>\n",
       "      <th>CUISINE DESCRIPTION</th>\n",
       "      <th>GRADE</th>\n",
       "      <th>SCORE</th>\n",
       "    </tr>\n",
       "  </thead>\n",
       "  <tbody>\n",
       "    <tr>\n",
       "      <th>1</th>\n",
       "      <td>Indian</td>\n",
       "      <td>A</td>\n",
       "      <td>7.0</td>\n",
       "    </tr>\n",
       "    <tr>\n",
       "      <th>4</th>\n",
       "      <td>CafÃ©/Coffee/Tea</td>\n",
       "      <td>A</td>\n",
       "      <td>7.0</td>\n",
       "    </tr>\n",
       "    <tr>\n",
       "      <th>5</th>\n",
       "      <td>Vegetarian</td>\n",
       "      <td>A</td>\n",
       "      <td>7.0</td>\n",
       "    </tr>\n",
       "    <tr>\n",
       "      <th>6</th>\n",
       "      <td>CafÃ©/Coffee/Tea</td>\n",
       "      <td>A</td>\n",
       "      <td>3.0</td>\n",
       "    </tr>\n",
       "    <tr>\n",
       "      <th>10</th>\n",
       "      <td>Spanish</td>\n",
       "      <td>A</td>\n",
       "      <td>11.0</td>\n",
       "    </tr>\n",
       "  </tbody>\n",
       "</table>\n",
       "</div>"
      ],
      "text/plain": [
       "   CUISINE DESCRIPTION GRADE  SCORE\n",
       "1               Indian     A    7.0\n",
       "4     CafÃ©/Coffee/Tea     A    7.0\n",
       "5           Vegetarian     A    7.0\n",
       "6     CafÃ©/Coffee/Tea     A    3.0\n",
       "10             Spanish     A   11.0"
      ]
     },
     "execution_count": 73,
     "metadata": {},
     "output_type": "execute_result"
    }
   ],
   "source": [
    "data_food_type.head()"
   ]
  },
  {
   "cell_type": "code",
   "execution_count": 77,
   "metadata": {},
   "outputs": [],
   "source": [
    "data_date=data[['INSPECTION DATE','GRADE','SCORE']] # data subset 3, to answer question 3"
   ]
  },
  {
   "cell_type": "code",
   "execution_count": 78,
   "metadata": {},
   "outputs": [
    {
     "data": {
      "text/html": [
       "<div>\n",
       "<style scoped>\n",
       "    .dataframe tbody tr th:only-of-type {\n",
       "        vertical-align: middle;\n",
       "    }\n",
       "\n",
       "    .dataframe tbody tr th {\n",
       "        vertical-align: top;\n",
       "    }\n",
       "\n",
       "    .dataframe thead th {\n",
       "        text-align: right;\n",
       "    }\n",
       "</style>\n",
       "<table border=\"1\" class=\"dataframe\">\n",
       "  <thead>\n",
       "    <tr style=\"text-align: right;\">\n",
       "      <th></th>\n",
       "      <th>INSPECTION DATE</th>\n",
       "      <th>GRADE</th>\n",
       "      <th>SCORE</th>\n",
       "    </tr>\n",
       "  </thead>\n",
       "  <tbody>\n",
       "    <tr>\n",
       "      <th>1</th>\n",
       "      <td>03/15/2016</td>\n",
       "      <td>A</td>\n",
       "      <td>7.0</td>\n",
       "    </tr>\n",
       "    <tr>\n",
       "      <th>4</th>\n",
       "      <td>05/13/2016</td>\n",
       "      <td>A</td>\n",
       "      <td>7.0</td>\n",
       "    </tr>\n",
       "    <tr>\n",
       "      <th>5</th>\n",
       "      <td>07/02/2018</td>\n",
       "      <td>A</td>\n",
       "      <td>7.0</td>\n",
       "    </tr>\n",
       "    <tr>\n",
       "      <th>6</th>\n",
       "      <td>02/07/2018</td>\n",
       "      <td>A</td>\n",
       "      <td>3.0</td>\n",
       "    </tr>\n",
       "    <tr>\n",
       "      <th>10</th>\n",
       "      <td>02/16/2018</td>\n",
       "      <td>A</td>\n",
       "      <td>11.0</td>\n",
       "    </tr>\n",
       "  </tbody>\n",
       "</table>\n",
       "</div>"
      ],
      "text/plain": [
       "   INSPECTION DATE GRADE  SCORE\n",
       "1       03/15/2016     A    7.0\n",
       "4       05/13/2016     A    7.0\n",
       "5       07/02/2018     A    7.0\n",
       "6       02/07/2018     A    3.0\n",
       "10      02/16/2018     A   11.0"
      ]
     },
     "execution_count": 78,
     "metadata": {},
     "output_type": "execute_result"
    }
   ],
   "source": [
    "data_date.head()"
   ]
  },
  {
   "cell_type": "markdown",
   "metadata": {},
   "source": [
    "# Part 3"
   ]
  },
  {
   "cell_type": "code",
   "execution_count": null,
   "metadata": {},
   "outputs": [],
   "source": []
  }
 ],
 "metadata": {
  "kernelspec": {
   "display_name": "Python 3",
   "language": "python",
   "name": "python3"
  },
  "language_info": {
   "codemirror_mode": {
    "name": "ipython",
    "version": 3
   },
   "file_extension": ".py",
   "mimetype": "text/x-python",
   "name": "python",
   "nbconvert_exporter": "python",
   "pygments_lexer": "ipython3",
   "version": "3.6.6"
  }
 },
 "nbformat": 4,
 "nbformat_minor": 2
}
