{
 "cells": [
  {
   "cell_type": "markdown",
   "metadata": {},
   "source": [
    "## Manhattan Restaurant Inspection Results, using CSV\n",
    "This dataset provides restaurant inspections, violations, grades and adjudication information.\n",
    "1. https://data.cityofnewyork.us/Health/DOHMH-New-York-City-Restaurant-Inspection-Results/rs6k-p7g6\n",
    "2. The data set is collected by Department of Health and Mental Hygiene\n",
    "3. They started collecting around mid-2014 and I selected only restaurants in Manhattan due to the size of the dataset.\n",
    "4. This dataset is interesting because first it is a great way to see the rating of your favorite restaurants and their inspection results. Second, I am curious how they inspect and rate the restaurants.\n",
    "5. Questions to answer: \n",
    "    1. Correlation between geological area and grade?:\n",
    "        Will there be a place where all the food are graded A or is there a place that no places graded A? \n",
    "    2. Correlation between food type and grade?: \n",
    "        What kind of food type has highest grade/lowest grade? What are the common type of violation? \n",
    "    3. Given geological and food type and date of inspection, can we predict the grade?"
   ]
  },
  {
   "cell_type": "markdown",
   "metadata": {},
   "source": [
    "# There are huge complexities in changing it to csv... The difficulties come in two ways:\n",
    "1. The data structure that in csv is 2-dim arraies, it is difficult first to construct and manage this data structure and in an efficient structure since our data set is huge. \n",
    "2. Since I implemented many pandas methods \n",
    "    1. apply(), \n",
    "    2. describe(), \n",
    "    3. change to categorical value: cat.codes\n",
    "    4. value_counts(), \n",
    "    5. from_dict(), \n",
    "    6. astype(), \n",
    "    7. notna(), \n",
    "    8. ..... \n",
    "    \n",
    "    It would cost me many time to implement all of them in python. This also makes me realize and appreciate how Pandas is really compact and efficient and useful. 2 lines of code of pandas may require me to use 20 lines in python.... \n",
    "\n",
    "Due to the time constraint, I will leave it as the old notebook."
   ]
  },
  {
   "cell_type": "code",
   "execution_count": 1,
   "metadata": {},
   "outputs": [
    {
     "name": "stderr",
     "output_type": "stream",
     "text": [
      "/home/kexin/miniconda3/lib/python3.6/importlib/_bootstrap.py:219: RuntimeWarning: numpy.dtype size changed, may indicate binary incompatibility. Expected 96, got 88\n",
      "  return f(*args, **kwds)\n",
      "/home/kexin/miniconda3/lib/python3.6/importlib/_bootstrap.py:219: RuntimeWarning: numpy.dtype size changed, may indicate binary incompatibility. Expected 96, got 88\n",
      "  return f(*args, **kwds)\n"
     ]
    }
   ],
   "source": [
    "import csv\n",
    "import pandas as pd\n",
    "import numpy as np\n",
    "import matplotlib.pyplot as plt"
   ]
  },
  {
   "cell_type": "markdown",
   "metadata": {},
   "source": [
    "# Part 1"
   ]
  },
  {
   "cell_type": "code",
   "execution_count": 2,
   "metadata": {},
   "outputs": [],
   "source": [
    "data=pd.read_csv('DOHMH_New_York_City_Restaurant_Inspection_Results.csv')"
   ]
  },
  {
   "cell_type": "code",
   "execution_count": 3,
   "metadata": {},
   "outputs": [
    {
     "data": {
      "text/html": [
       "<div>\n",
       "<style scoped>\n",
       "    .dataframe tbody tr th:only-of-type {\n",
       "        vertical-align: middle;\n",
       "    }\n",
       "\n",
       "    .dataframe tbody tr th {\n",
       "        vertical-align: top;\n",
       "    }\n",
       "\n",
       "    .dataframe thead th {\n",
       "        text-align: right;\n",
       "    }\n",
       "</style>\n",
       "<table border=\"1\" class=\"dataframe\">\n",
       "  <thead>\n",
       "    <tr style=\"text-align: right;\">\n",
       "      <th></th>\n",
       "      <th>CAMIS</th>\n",
       "      <th>DBA</th>\n",
       "      <th>BORO</th>\n",
       "      <th>BUILDING</th>\n",
       "      <th>STREET</th>\n",
       "      <th>ZIPCODE</th>\n",
       "      <th>PHONE</th>\n",
       "      <th>CUISINE DESCRIPTION</th>\n",
       "      <th>INSPECTION DATE</th>\n",
       "      <th>ACTION</th>\n",
       "      <th>VIOLATION CODE</th>\n",
       "      <th>VIOLATION DESCRIPTION</th>\n",
       "      <th>CRITICAL FLAG</th>\n",
       "      <th>SCORE</th>\n",
       "      <th>GRADE</th>\n",
       "      <th>GRADE DATE</th>\n",
       "      <th>RECORD DATE</th>\n",
       "      <th>INSPECTION TYPE</th>\n",
       "    </tr>\n",
       "  </thead>\n",
       "  <tbody>\n",
       "    <tr>\n",
       "      <th>0</th>\n",
       "      <td>40367728</td>\n",
       "      <td>MIMIS RESTAURANT &amp; BAR</td>\n",
       "      <td>MANHATTAN</td>\n",
       "      <td>984</td>\n",
       "      <td>SECOND AVENUE</td>\n",
       "      <td>10022.0</td>\n",
       "      <td>2126884692</td>\n",
       "      <td>Italian</td>\n",
       "      <td>01/15/2015</td>\n",
       "      <td>Violations were cited in the following area(s).</td>\n",
       "      <td>08A</td>\n",
       "      <td>Facility not vermin proof. Harborage or condit...</td>\n",
       "      <td>Not Critical</td>\n",
       "      <td>21.0</td>\n",
       "      <td>NaN</td>\n",
       "      <td>NaN</td>\n",
       "      <td>10/02/2018</td>\n",
       "      <td>Cycle Inspection / Initial Inspection</td>\n",
       "    </tr>\n",
       "    <tr>\n",
       "      <th>1</th>\n",
       "      <td>41424929</td>\n",
       "      <td>AAHELI</td>\n",
       "      <td>MANHATTAN</td>\n",
       "      <td>826</td>\n",
       "      <td>9 AVENUE</td>\n",
       "      <td>10019.0</td>\n",
       "      <td>2129699010</td>\n",
       "      <td>Indian</td>\n",
       "      <td>03/15/2016</td>\n",
       "      <td>Violations were cited in the following area(s).</td>\n",
       "      <td>10F</td>\n",
       "      <td>Non-food contact surface improperly constructe...</td>\n",
       "      <td>Not Critical</td>\n",
       "      <td>7.0</td>\n",
       "      <td>A</td>\n",
       "      <td>03/15/2016</td>\n",
       "      <td>10/02/2018</td>\n",
       "      <td>Cycle Inspection / Re-inspection</td>\n",
       "    </tr>\n",
       "    <tr>\n",
       "      <th>2</th>\n",
       "      <td>41661008</td>\n",
       "      <td>AMURA JAPANESE RESTAURANT</td>\n",
       "      <td>MANHATTAN</td>\n",
       "      <td>1567</td>\n",
       "      <td>2ND AVE</td>\n",
       "      <td>10028.0</td>\n",
       "      <td>2127721688</td>\n",
       "      <td>Japanese</td>\n",
       "      <td>09/15/2015</td>\n",
       "      <td>Violations were cited in the following area(s).</td>\n",
       "      <td>04N</td>\n",
       "      <td>Filth flies or food/refuse/sewage-associated (...</td>\n",
       "      <td>Critical</td>\n",
       "      <td>30.0</td>\n",
       "      <td>NaN</td>\n",
       "      <td>NaN</td>\n",
       "      <td>10/02/2018</td>\n",
       "      <td>Cycle Inspection / Initial Inspection</td>\n",
       "    </tr>\n",
       "    <tr>\n",
       "      <th>3</th>\n",
       "      <td>50048823</td>\n",
       "      <td>POMMES FRITES</td>\n",
       "      <td>MANHATTAN</td>\n",
       "      <td>128</td>\n",
       "      <td>MACDOUGAL ST</td>\n",
       "      <td>10012.0</td>\n",
       "      <td>2126741234</td>\n",
       "      <td>Other</td>\n",
       "      <td>06/21/2018</td>\n",
       "      <td>Violations were cited in the following area(s).</td>\n",
       "      <td>04N</td>\n",
       "      <td>Filth flies or food/refuse/sewage-associated (...</td>\n",
       "      <td>Critical</td>\n",
       "      <td>28.0</td>\n",
       "      <td>NaN</td>\n",
       "      <td>NaN</td>\n",
       "      <td>10/02/2018</td>\n",
       "      <td>Cycle Inspection / Initial Inspection</td>\n",
       "    </tr>\n",
       "    <tr>\n",
       "      <th>4</th>\n",
       "      <td>41599272</td>\n",
       "      <td>LE MOULIN A CAFE</td>\n",
       "      <td>MANHATTAN</td>\n",
       "      <td>1439</td>\n",
       "      <td>YORK AVENUE</td>\n",
       "      <td>10075.0</td>\n",
       "      <td>2122885088</td>\n",
       "      <td>CafÃ©/Coffee/Tea</td>\n",
       "      <td>05/13/2016</td>\n",
       "      <td>Violations were cited in the following area(s).</td>\n",
       "      <td>10E</td>\n",
       "      <td>Accurate thermometer not provided in refrigera...</td>\n",
       "      <td>Not Critical</td>\n",
       "      <td>7.0</td>\n",
       "      <td>A</td>\n",
       "      <td>05/13/2016</td>\n",
       "      <td>10/02/2018</td>\n",
       "      <td>Cycle Inspection / Initial Inspection</td>\n",
       "    </tr>\n",
       "  </tbody>\n",
       "</table>\n",
       "</div>"
      ],
      "text/plain": [
       "      CAMIS                        DBA       BORO BUILDING         STREET  \\\n",
       "0  40367728     MIMIS RESTAURANT & BAR  MANHATTAN      984  SECOND AVENUE   \n",
       "1  41424929                     AAHELI  MANHATTAN      826       9 AVENUE   \n",
       "2  41661008  AMURA JAPANESE RESTAURANT  MANHATTAN     1567        2ND AVE   \n",
       "3  50048823              POMMES FRITES  MANHATTAN      128   MACDOUGAL ST   \n",
       "4  41599272           LE MOULIN A CAFE  MANHATTAN     1439    YORK AVENUE   \n",
       "\n",
       "   ZIPCODE       PHONE CUISINE DESCRIPTION INSPECTION DATE  \\\n",
       "0  10022.0  2126884692             Italian      01/15/2015   \n",
       "1  10019.0  2129699010              Indian      03/15/2016   \n",
       "2  10028.0  2127721688            Japanese      09/15/2015   \n",
       "3  10012.0  2126741234               Other      06/21/2018   \n",
       "4  10075.0  2122885088    CafÃ©/Coffee/Tea      05/13/2016   \n",
       "\n",
       "                                            ACTION VIOLATION CODE  \\\n",
       "0  Violations were cited in the following area(s).            08A   \n",
       "1  Violations were cited in the following area(s).            10F   \n",
       "2  Violations were cited in the following area(s).            04N   \n",
       "3  Violations were cited in the following area(s).            04N   \n",
       "4  Violations were cited in the following area(s).            10E   \n",
       "\n",
       "                               VIOLATION DESCRIPTION CRITICAL FLAG  SCORE  \\\n",
       "0  Facility not vermin proof. Harborage or condit...  Not Critical   21.0   \n",
       "1  Non-food contact surface improperly constructe...  Not Critical    7.0   \n",
       "2  Filth flies or food/refuse/sewage-associated (...      Critical   30.0   \n",
       "3  Filth flies or food/refuse/sewage-associated (...      Critical   28.0   \n",
       "4  Accurate thermometer not provided in refrigera...  Not Critical    7.0   \n",
       "\n",
       "  GRADE  GRADE DATE RECORD DATE                        INSPECTION TYPE  \n",
       "0   NaN         NaN  10/02/2018  Cycle Inspection / Initial Inspection  \n",
       "1     A  03/15/2016  10/02/2018       Cycle Inspection / Re-inspection  \n",
       "2   NaN         NaN  10/02/2018  Cycle Inspection / Initial Inspection  \n",
       "3   NaN         NaN  10/02/2018  Cycle Inspection / Initial Inspection  \n",
       "4     A  05/13/2016  10/02/2018  Cycle Inspection / Initial Inspection  "
      ]
     },
     "execution_count": 3,
     "metadata": {},
     "output_type": "execute_result"
    }
   ],
   "source": [
    "data.head(5)"
   ]
  },
  {
   "cell_type": "markdown",
   "metadata": {},
   "source": [
    "# Extra Credit 3. data size larger than 5,000"
   ]
  },
  {
   "cell_type": "code",
   "execution_count": 4,
   "metadata": {},
   "outputs": [
    {
     "data": {
      "text/plain": [
       "(149847, 18)"
      ]
     },
     "execution_count": 4,
     "metadata": {},
     "output_type": "execute_result"
    }
   ],
   "source": [
    "data.shape"
   ]
  },
  {
   "cell_type": "code",
   "execution_count": 5,
   "metadata": {},
   "outputs": [
    {
     "data": {
      "text/plain": [
       "CAMIS                      int64\n",
       "DBA                       object\n",
       "BORO                      object\n",
       "BUILDING                  object\n",
       "STREET                    object\n",
       "ZIPCODE                  float64\n",
       "PHONE                     object\n",
       "CUISINE DESCRIPTION       object\n",
       "INSPECTION DATE           object\n",
       "ACTION                    object\n",
       "VIOLATION CODE            object\n",
       "VIOLATION DESCRIPTION     object\n",
       "CRITICAL FLAG             object\n",
       "SCORE                    float64\n",
       "GRADE                     object\n",
       "GRADE DATE                object\n",
       "RECORD DATE               object\n",
       "INSPECTION TYPE           object\n",
       "dtype: object"
      ]
     },
     "execution_count": 5,
     "metadata": {},
     "output_type": "execute_result"
    }
   ],
   "source": [
    "data.dtypes"
   ]
  },
  {
   "cell_type": "markdown",
   "metadata": {},
   "source": [
    "## format of the data:\n",
    "1. Pandas DataFrame. The data has 149847 rows and 18 columns: each row represents a restaurant and the 18 columns describe the geographical info, date of inspection, violation reason, grade, type of cuisine and etc. \n",
    "2. With different columns have different type. For example, the first column is numpy.int64; and there are numpy.float64 for the ZIPCODE column; there are also Str.\n",
    "\n",
    "## Problems in the data:\n",
    "1. There are columns that are irrelevant, select them to form different sub dataset to tackle different problems\n",
    "2. The Grade has many NaN: Filter them\n",
    "3. rows need to be sorted cuisine type/zipcode and categorize each type to a number so that we can run stats\n",
    "4. the ZIPCODE is float, convert to int\n",
    "\n",
    "### Right now, I couldn't answer any of my questions...\n",
    "\n",
    "# Part 2"
   ]
  },
  {
   "cell_type": "code",
   "execution_count": 6,
   "metadata": {},
   "outputs": [],
   "source": [
    "#filter out all NaN grade rows\n",
    "data=data[data['GRADE'].notna()]"
   ]
  },
  {
   "cell_type": "code",
   "execution_count": 7,
   "metadata": {},
   "outputs": [
    {
     "data": {
      "text/plain": [
       "A                 60336\n",
       "B                  9208\n",
       "C                  2814\n",
       "Z                  1863\n",
       "P                   782\n",
       "Not Yet Graded      581\n",
       "Name: GRADE, dtype: int64"
      ]
     },
     "execution_count": 7,
     "metadata": {},
     "output_type": "execute_result"
    }
   ],
   "source": [
    "data['GRADE'].value_counts()"
   ]
  },
  {
   "cell_type": "markdown",
   "metadata": {},
   "source": [
    "## we don't need not yet graded info, drop them"
   ]
  },
  {
   "cell_type": "code",
   "execution_count": 8,
   "metadata": {},
   "outputs": [],
   "source": [
    "data=data[data['GRADE']!='Not Yet Graded']"
   ]
  },
  {
   "cell_type": "markdown",
   "metadata": {},
   "source": [
    "## subdataset with zip and grade to understand the relationship between geography and grade\n"
   ]
  },
  {
   "cell_type": "code",
   "execution_count": 9,
   "metadata": {},
   "outputs": [],
   "source": [
    "data_zip=data[['ZIPCODE','GRADE','SCORE']]"
   ]
  },
  {
   "cell_type": "markdown",
   "metadata": {},
   "source": [
    "## filter out zip with NaN\n"
   ]
  },
  {
   "cell_type": "code",
   "execution_count": 10,
   "metadata": {},
   "outputs": [],
   "source": [
    "data_zip=data_zip[data_zip['ZIPCODE'].notna()] \n",
    "data_zip['ZIPCODE']=data_zip['ZIPCODE'].astype('int64')"
   ]
  },
  {
   "cell_type": "code",
   "execution_count": 11,
   "metadata": {},
   "outputs": [
    {
     "data": {
      "text/html": [
       "<div>\n",
       "<style scoped>\n",
       "    .dataframe tbody tr th:only-of-type {\n",
       "        vertical-align: middle;\n",
       "    }\n",
       "\n",
       "    .dataframe tbody tr th {\n",
       "        vertical-align: top;\n",
       "    }\n",
       "\n",
       "    .dataframe thead th {\n",
       "        text-align: right;\n",
       "    }\n",
       "</style>\n",
       "<table border=\"1\" class=\"dataframe\">\n",
       "  <thead>\n",
       "    <tr style=\"text-align: right;\">\n",
       "      <th></th>\n",
       "      <th>ZIPCODE</th>\n",
       "      <th>GRADE</th>\n",
       "      <th>SCORE</th>\n",
       "    </tr>\n",
       "  </thead>\n",
       "  <tbody>\n",
       "    <tr>\n",
       "      <th>1</th>\n",
       "      <td>10019</td>\n",
       "      <td>A</td>\n",
       "      <td>7.0</td>\n",
       "    </tr>\n",
       "    <tr>\n",
       "      <th>4</th>\n",
       "      <td>10075</td>\n",
       "      <td>A</td>\n",
       "      <td>7.0</td>\n",
       "    </tr>\n",
       "    <tr>\n",
       "      <th>5</th>\n",
       "      <td>10010</td>\n",
       "      <td>A</td>\n",
       "      <td>7.0</td>\n",
       "    </tr>\n",
       "    <tr>\n",
       "      <th>6</th>\n",
       "      <td>10002</td>\n",
       "      <td>A</td>\n",
       "      <td>3.0</td>\n",
       "    </tr>\n",
       "    <tr>\n",
       "      <th>10</th>\n",
       "      <td>10033</td>\n",
       "      <td>A</td>\n",
       "      <td>11.0</td>\n",
       "    </tr>\n",
       "  </tbody>\n",
       "</table>\n",
       "</div>"
      ],
      "text/plain": [
       "    ZIPCODE GRADE  SCORE\n",
       "1     10019     A    7.0\n",
       "4     10075     A    7.0\n",
       "5     10010     A    7.0\n",
       "6     10002     A    3.0\n",
       "10    10033     A   11.0"
      ]
     },
     "execution_count": 11,
     "metadata": {},
     "output_type": "execute_result"
    }
   ],
   "source": [
    "data_zip.head() # data subset 1, to examine question 1"
   ]
  },
  {
   "cell_type": "code",
   "execution_count": 12,
   "metadata": {},
   "outputs": [
    {
     "data": {
      "text/plain": [
       "ZIPCODE      int64\n",
       "GRADE       object\n",
       "SCORE      float64\n",
       "dtype: object"
      ]
     },
     "execution_count": 12,
     "metadata": {},
     "output_type": "execute_result"
    }
   ],
   "source": [
    "data_zip.dtypes"
   ]
  },
  {
   "cell_type": "code",
   "execution_count": 13,
   "metadata": {},
   "outputs": [
    {
     "data": {
      "text/plain": [
       "10019    4755\n",
       "10036    4296\n",
       "10013    3849\n",
       "10002    3489\n",
       "10001    3423\n",
       "10016    3389\n",
       "10022    3227\n",
       "10011    3040\n",
       "10012    2897\n",
       "Name: ZIPCODE, dtype: int64"
      ]
     },
     "execution_count": 13,
     "metadata": {},
     "output_type": "execute_result"
    }
   ],
   "source": [
    "data_zip['ZIPCODE'].value_counts()[1:10]"
   ]
  },
  {
   "cell_type": "code",
   "execution_count": 14,
   "metadata": {},
   "outputs": [
    {
     "data": {
      "text/plain": [
       "A    59163\n",
       "B     9073\n",
       "C     2748\n",
       "Z     1831\n",
       "P      764\n",
       "Name: GRADE, dtype: int64"
      ]
     },
     "execution_count": 14,
     "metadata": {},
     "output_type": "execute_result"
    }
   ],
   "source": [
    "data_zip['GRADE'].value_counts()"
   ]
  },
  {
   "cell_type": "markdown",
   "metadata": {},
   "source": [
    "## add a column with zipcode categorical values for problem C"
   ]
  },
  {
   "cell_type": "code",
   "execution_count": 15,
   "metadata": {},
   "outputs": [],
   "source": [
    "data_zip['ZIPCODE'] = data_zip['ZIPCODE'].astype('category')"
   ]
  },
  {
   "cell_type": "code",
   "execution_count": 16,
   "metadata": {},
   "outputs": [],
   "source": [
    "data_zip['ZIPCODE_Encode'] = data_zip['ZIPCODE'].cat.codes"
   ]
  },
  {
   "cell_type": "code",
   "execution_count": 17,
   "metadata": {},
   "outputs": [
    {
     "data": {
      "text/html": [
       "<div>\n",
       "<style scoped>\n",
       "    .dataframe tbody tr th:only-of-type {\n",
       "        vertical-align: middle;\n",
       "    }\n",
       "\n",
       "    .dataframe tbody tr th {\n",
       "        vertical-align: top;\n",
       "    }\n",
       "\n",
       "    .dataframe thead th {\n",
       "        text-align: right;\n",
       "    }\n",
       "</style>\n",
       "<table border=\"1\" class=\"dataframe\">\n",
       "  <thead>\n",
       "    <tr style=\"text-align: right;\">\n",
       "      <th></th>\n",
       "      <th>ZIPCODE</th>\n",
       "      <th>GRADE</th>\n",
       "      <th>SCORE</th>\n",
       "      <th>ZIPCODE_Encode</th>\n",
       "    </tr>\n",
       "  </thead>\n",
       "  <tbody>\n",
       "    <tr>\n",
       "      <th>1</th>\n",
       "      <td>10019</td>\n",
       "      <td>A</td>\n",
       "      <td>7.0</td>\n",
       "      <td>17</td>\n",
       "    </tr>\n",
       "    <tr>\n",
       "      <th>4</th>\n",
       "      <td>10075</td>\n",
       "      <td>A</td>\n",
       "      <td>7.0</td>\n",
       "      <td>45</td>\n",
       "    </tr>\n",
       "    <tr>\n",
       "      <th>5</th>\n",
       "      <td>10010</td>\n",
       "      <td>A</td>\n",
       "      <td>7.0</td>\n",
       "      <td>9</td>\n",
       "    </tr>\n",
       "    <tr>\n",
       "      <th>6</th>\n",
       "      <td>10002</td>\n",
       "      <td>A</td>\n",
       "      <td>3.0</td>\n",
       "      <td>2</td>\n",
       "    </tr>\n",
       "    <tr>\n",
       "      <th>10</th>\n",
       "      <td>10033</td>\n",
       "      <td>A</td>\n",
       "      <td>11.0</td>\n",
       "      <td>31</td>\n",
       "    </tr>\n",
       "  </tbody>\n",
       "</table>\n",
       "</div>"
      ],
      "text/plain": [
       "   ZIPCODE GRADE  SCORE  ZIPCODE_Encode\n",
       "1    10019     A    7.0              17\n",
       "4    10075     A    7.0              45\n",
       "5    10010     A    7.0               9\n",
       "6    10002     A    3.0               2\n",
       "10   10033     A   11.0              31"
      ]
     },
     "execution_count": 17,
     "metadata": {},
     "output_type": "execute_result"
    }
   ],
   "source": [
    "data_zip.head()"
   ]
  },
  {
   "cell_type": "code",
   "execution_count": 18,
   "metadata": {},
   "outputs": [],
   "source": [
    "data_zip['GRADE'] = data_zip['GRADE'].astype('category')\n",
    "data_zip['GRADE_Encode'] = data_zip['GRADE'].cat.codes"
   ]
  },
  {
   "cell_type": "code",
   "execution_count": 19,
   "metadata": {},
   "outputs": [
    {
     "data": {
      "text/plain": [
       "0    59163\n",
       "1     9073\n",
       "2     2748\n",
       "4     1831\n",
       "3      764\n",
       "Name: GRADE_Encode, dtype: int64"
      ]
     },
     "execution_count": 19,
     "metadata": {},
     "output_type": "execute_result"
    }
   ],
   "source": [
    "data_zip['GRADE_Encode'].value_counts()"
   ]
  },
  {
   "cell_type": "code",
   "execution_count": 20,
   "metadata": {},
   "outputs": [],
   "source": [
    "zip_arr=data_zip['ZIPCODE'].unique()"
   ]
  },
  {
   "cell_type": "code",
   "execution_count": 21,
   "metadata": {},
   "outputs": [],
   "source": [
    "def zip_add(row):\n",
    "    dict_x[row['ZIPCODE']][row['GRADE_Encode']]+=1"
   ]
  },
  {
   "cell_type": "code",
   "execution_count": 22,
   "metadata": {},
   "outputs": [],
   "source": [
    "dict_x={key: [0,0,0,0,0] for key in zip_arr}\n",
    "x=data_zip.apply(lambda x: zip_add(x), axis=1)"
   ]
  },
  {
   "cell_type": "code",
   "execution_count": 23,
   "metadata": {},
   "outputs": [],
   "source": [
    "zip_dist=pd.DataFrame.from_dict(dict_x,orient='index',columns=data_zip['GRADE'].unique())"
   ]
  },
  {
   "cell_type": "code",
   "execution_count": 24,
   "metadata": {},
   "outputs": [
    {
     "data": {
      "text/html": [
       "<div>\n",
       "<style scoped>\n",
       "    .dataframe tbody tr th:only-of-type {\n",
       "        vertical-align: middle;\n",
       "    }\n",
       "\n",
       "    .dataframe tbody tr th {\n",
       "        vertical-align: top;\n",
       "    }\n",
       "\n",
       "    .dataframe thead th {\n",
       "        text-align: right;\n",
       "    }\n",
       "</style>\n",
       "<table border=\"1\" class=\"dataframe\">\n",
       "  <thead>\n",
       "    <tr style=\"text-align: right;\">\n",
       "      <th></th>\n",
       "      <th>A</th>\n",
       "      <th>B</th>\n",
       "      <th>C</th>\n",
       "      <th>Z</th>\n",
       "      <th>P</th>\n",
       "    </tr>\n",
       "  </thead>\n",
       "  <tbody>\n",
       "    <tr>\n",
       "      <th>10019</th>\n",
       "      <td>3992</td>\n",
       "      <td>496</td>\n",
       "      <td>146</td>\n",
       "      <td>23</td>\n",
       "      <td>98</td>\n",
       "    </tr>\n",
       "    <tr>\n",
       "      <th>10075</th>\n",
       "      <td>562</td>\n",
       "      <td>24</td>\n",
       "      <td>25</td>\n",
       "      <td>10</td>\n",
       "      <td>16</td>\n",
       "    </tr>\n",
       "    <tr>\n",
       "      <th>10010</th>\n",
       "      <td>1574</td>\n",
       "      <td>205</td>\n",
       "      <td>54</td>\n",
       "      <td>16</td>\n",
       "      <td>35</td>\n",
       "    </tr>\n",
       "    <tr>\n",
       "      <th>10002</th>\n",
       "      <td>2639</td>\n",
       "      <td>551</td>\n",
       "      <td>138</td>\n",
       "      <td>70</td>\n",
       "      <td>91</td>\n",
       "    </tr>\n",
       "    <tr>\n",
       "      <th>10033</th>\n",
       "      <td>644</td>\n",
       "      <td>113</td>\n",
       "      <td>23</td>\n",
       "      <td>3</td>\n",
       "      <td>12</td>\n",
       "    </tr>\n",
       "  </tbody>\n",
       "</table>\n",
       "</div>"
      ],
      "text/plain": [
       "          A    B    C   Z   P\n",
       "10019  3992  496  146  23  98\n",
       "10075   562   24   25  10  16\n",
       "10010  1574  205   54  16  35\n",
       "10002  2639  551  138  70  91\n",
       "10033   644  113   23   3  12"
      ]
     },
     "execution_count": 24,
     "metadata": {},
     "output_type": "execute_result"
    }
   ],
   "source": [
    "zip_dist.head()"
   ]
  },
  {
   "cell_type": "markdown",
   "metadata": {},
   "source": [
    "## Part 3 for Question A: \n",
    "### We want to construct a table where each row is Unique ZIPCODE and columns are the grades, and then we check if for each ZIPCODE, the distribution over all grades are uniform, or in a peaky form, compared with the distribution over the the grade for every restaurant"
   ]
  },
  {
   "cell_type": "code",
   "execution_count": 25,
   "metadata": {},
   "outputs": [],
   "source": [
    "zip_dist.to_csv('data_cleaned1.csv')"
   ]
  },
  {
   "cell_type": "code",
   "execution_count": 27,
   "metadata": {},
   "outputs": [],
   "source": [
    "data1=zip_dist"
   ]
  },
  {
   "cell_type": "markdown",
   "metadata": {},
   "source": [
    "## Some stats"
   ]
  },
  {
   "cell_type": "code",
   "execution_count": 28,
   "metadata": {},
   "outputs": [
    {
     "data": {
      "text/html": [
       "<div>\n",
       "<style scoped>\n",
       "    .dataframe tbody tr th:only-of-type {\n",
       "        vertical-align: middle;\n",
       "    }\n",
       "\n",
       "    .dataframe tbody tr th {\n",
       "        vertical-align: top;\n",
       "    }\n",
       "\n",
       "    .dataframe thead th {\n",
       "        text-align: right;\n",
       "    }\n",
       "</style>\n",
       "<table border=\"1\" class=\"dataframe\">\n",
       "  <thead>\n",
       "    <tr style=\"text-align: right;\">\n",
       "      <th></th>\n",
       "      <th>A</th>\n",
       "      <th>B</th>\n",
       "      <th>C</th>\n",
       "      <th>Z</th>\n",
       "      <th>P</th>\n",
       "    </tr>\n",
       "  </thead>\n",
       "  <tbody>\n",
       "    <tr>\n",
       "      <th>count</th>\n",
       "      <td>82.000000</td>\n",
       "      <td>82.000000</td>\n",
       "      <td>82.000000</td>\n",
       "      <td>82.000000</td>\n",
       "      <td>82.000000</td>\n",
       "    </tr>\n",
       "    <tr>\n",
       "      <th>mean</th>\n",
       "      <td>721.500000</td>\n",
       "      <td>110.646341</td>\n",
       "      <td>33.512195</td>\n",
       "      <td>9.317073</td>\n",
       "      <td>22.329268</td>\n",
       "    </tr>\n",
       "    <tr>\n",
       "      <th>std</th>\n",
       "      <td>1024.106804</td>\n",
       "      <td>161.770327</td>\n",
       "      <td>48.792138</td>\n",
       "      <td>14.385245</td>\n",
       "      <td>31.770028</td>\n",
       "    </tr>\n",
       "    <tr>\n",
       "      <th>min</th>\n",
       "      <td>2.000000</td>\n",
       "      <td>0.000000</td>\n",
       "      <td>0.000000</td>\n",
       "      <td>0.000000</td>\n",
       "      <td>0.000000</td>\n",
       "    </tr>\n",
       "    <tr>\n",
       "      <th>25%</th>\n",
       "      <td>15.000000</td>\n",
       "      <td>0.000000</td>\n",
       "      <td>0.000000</td>\n",
       "      <td>0.000000</td>\n",
       "      <td>0.000000</td>\n",
       "    </tr>\n",
       "    <tr>\n",
       "      <th>50%</th>\n",
       "      <td>175.500000</td>\n",
       "      <td>15.000000</td>\n",
       "      <td>4.500000</td>\n",
       "      <td>1.000000</td>\n",
       "      <td>4.000000</td>\n",
       "    </tr>\n",
       "    <tr>\n",
       "      <th>75%</th>\n",
       "      <td>1078.000000</td>\n",
       "      <td>169.250000</td>\n",
       "      <td>52.250000</td>\n",
       "      <td>13.750000</td>\n",
       "      <td>39.500000</td>\n",
       "    </tr>\n",
       "    <tr>\n",
       "      <th>max</th>\n",
       "      <td>3992.000000</td>\n",
       "      <td>621.000000</td>\n",
       "      <td>213.000000</td>\n",
       "      <td>70.000000</td>\n",
       "      <td>128.000000</td>\n",
       "    </tr>\n",
       "  </tbody>\n",
       "</table>\n",
       "</div>"
      ],
      "text/plain": [
       "                 A           B           C          Z           P\n",
       "count    82.000000   82.000000   82.000000  82.000000   82.000000\n",
       "mean    721.500000  110.646341   33.512195   9.317073   22.329268\n",
       "std    1024.106804  161.770327   48.792138  14.385245   31.770028\n",
       "min       2.000000    0.000000    0.000000   0.000000    0.000000\n",
       "25%      15.000000    0.000000    0.000000   0.000000    0.000000\n",
       "50%     175.500000   15.000000    4.500000   1.000000    4.000000\n",
       "75%    1078.000000  169.250000   52.250000  13.750000   39.500000\n",
       "max    3992.000000  621.000000  213.000000  70.000000  128.000000"
      ]
     },
     "execution_count": 28,
     "metadata": {},
     "output_type": "execute_result"
    }
   ],
   "source": [
    "zip_dist.describe()"
   ]
  },
  {
   "cell_type": "code",
   "execution_count": 29,
   "metadata": {},
   "outputs": [],
   "source": [
    "sum_zip=zip_dist.sum(axis=1)"
   ]
  },
  {
   "cell_type": "code",
   "execution_count": 30,
   "metadata": {},
   "outputs": [],
   "source": [
    "zip_dist=zip_dist.apply(lambda x:x/float(sum(x)), axis=1)"
   ]
  },
  {
   "cell_type": "code",
   "execution_count": 31,
   "metadata": {},
   "outputs": [
    {
     "data": {
      "text/html": [
       "<div>\n",
       "<style scoped>\n",
       "    .dataframe tbody tr th:only-of-type {\n",
       "        vertical-align: middle;\n",
       "    }\n",
       "\n",
       "    .dataframe tbody tr th {\n",
       "        vertical-align: top;\n",
       "    }\n",
       "\n",
       "    .dataframe thead th {\n",
       "        text-align: right;\n",
       "    }\n",
       "</style>\n",
       "<table border=\"1\" class=\"dataframe\">\n",
       "  <thead>\n",
       "    <tr style=\"text-align: right;\">\n",
       "      <th></th>\n",
       "      <th>A</th>\n",
       "      <th>B</th>\n",
       "      <th>C</th>\n",
       "      <th>Z</th>\n",
       "      <th>P</th>\n",
       "    </tr>\n",
       "  </thead>\n",
       "  <tbody>\n",
       "    <tr>\n",
       "      <th>10019</th>\n",
       "      <td>0.839537</td>\n",
       "      <td>0.104311</td>\n",
       "      <td>0.030705</td>\n",
       "      <td>0.004837</td>\n",
       "      <td>0.020610</td>\n",
       "    </tr>\n",
       "    <tr>\n",
       "      <th>10075</th>\n",
       "      <td>0.882261</td>\n",
       "      <td>0.037677</td>\n",
       "      <td>0.039246</td>\n",
       "      <td>0.015699</td>\n",
       "      <td>0.025118</td>\n",
       "    </tr>\n",
       "    <tr>\n",
       "      <th>10010</th>\n",
       "      <td>0.835456</td>\n",
       "      <td>0.108811</td>\n",
       "      <td>0.028662</td>\n",
       "      <td>0.008493</td>\n",
       "      <td>0.018577</td>\n",
       "    </tr>\n",
       "    <tr>\n",
       "      <th>10002</th>\n",
       "      <td>0.756377</td>\n",
       "      <td>0.157925</td>\n",
       "      <td>0.039553</td>\n",
       "      <td>0.020063</td>\n",
       "      <td>0.026082</td>\n",
       "    </tr>\n",
       "    <tr>\n",
       "      <th>10033</th>\n",
       "      <td>0.810063</td>\n",
       "      <td>0.142138</td>\n",
       "      <td>0.028931</td>\n",
       "      <td>0.003774</td>\n",
       "      <td>0.015094</td>\n",
       "    </tr>\n",
       "  </tbody>\n",
       "</table>\n",
       "</div>"
      ],
      "text/plain": [
       "              A         B         C         Z         P\n",
       "10019  0.839537  0.104311  0.030705  0.004837  0.020610\n",
       "10075  0.882261  0.037677  0.039246  0.015699  0.025118\n",
       "10010  0.835456  0.108811  0.028662  0.008493  0.018577\n",
       "10002  0.756377  0.157925  0.039553  0.020063  0.026082\n",
       "10033  0.810063  0.142138  0.028931  0.003774  0.015094"
      ]
     },
     "execution_count": 31,
     "metadata": {},
     "output_type": "execute_result"
    }
   ],
   "source": [
    "zip_dist.head()"
   ]
  },
  {
   "cell_type": "markdown",
   "metadata": {},
   "source": [
    "## We use symmetric KL divergence to measure the difference between 2 distributions"
   ]
  },
  {
   "cell_type": "code",
   "execution_count": 32,
   "metadata": {},
   "outputs": [],
   "source": [
    "q=(data_zip['GRADE'].value_counts()/sum(data_zip['GRADE'].value_counts())).values"
   ]
  },
  {
   "cell_type": "code",
   "execution_count": 33,
   "metadata": {},
   "outputs": [
    {
     "data": {
      "text/plain": [
       "array([0.80407453, 0.12330964, 0.03734761, 0.02488482, 0.0103834 ])"
      ]
     },
     "execution_count": 33,
     "metadata": {},
     "output_type": "execute_result"
    }
   ],
   "source": [
    "q"
   ]
  },
  {
   "cell_type": "code",
   "execution_count": 34,
   "metadata": {},
   "outputs": [
    {
     "data": {
      "text/plain": [
       "array([0.83953733, 0.10431125, 0.03070452, 0.00483701, 0.02060988])"
      ]
     },
     "execution_count": 34,
     "metadata": {},
     "output_type": "execute_result"
    }
   ],
   "source": [
    "zip_dist.iloc[0].values"
   ]
  },
  {
   "cell_type": "code",
   "execution_count": 35,
   "metadata": {},
   "outputs": [],
   "source": [
    "def kl(p,q):\n",
    "    q=q+1e-10\n",
    "    p=p+1e-10 #numerical stability\n",
    "    return (np.sum(np.log(p/q)*p)+np.sum(np.log(q/p)*q))/2"
   ]
  },
  {
   "cell_type": "code",
   "execution_count": 36,
   "metadata": {},
   "outputs": [],
   "source": [
    "zip_kl=zip_dist.apply(lambda row: kl(row.values,q), axis=1)"
   ]
  },
  {
   "cell_type": "markdown",
   "metadata": {},
   "source": [
    "## Extra Credit 4, Visualization 1"
   ]
  },
  {
   "cell_type": "code",
   "execution_count": 37,
   "metadata": {},
   "outputs": [
    {
     "data": {
      "text/plain": [
       "(array([42.,  3.,  0.,  7.,  0.,  1.,  0.,  0.,  2., 27.]),\n",
       " array([0.00846255, 0.20930941, 0.41015627, 0.61100313, 0.81184999,\n",
       "        1.01269684, 1.2135437 , 1.41439056, 1.61523742, 1.81608428,\n",
       "        2.01693114]),\n",
       " <a list of 10 Patch objects>)"
      ]
     },
     "execution_count": 37,
     "metadata": {},
     "output_type": "execute_result"
    },
    {
     "data": {
      "image/png": "[encoded data removed]",
      "text/plain": [
       "<Figure size 432x288 with 1 Axes>"
      ]
     },
     "metadata": {},
     "output_type": "display_data"
    }
   ],
   "source": [
    "plt.hist(zip_kl.values)"
   ]
  },
  {
   "cell_type": "markdown",
   "metadata": {},
   "source": [
    "## This means out of 82 ZIPCODEs, 40~ are really similar to the default distribution, that is, it is unaffected, but there are many away from the default, basically means some places have different distributions. In other words, it is correlated in some places."
   ]
  },
  {
   "cell_type": "markdown",
   "metadata": {},
   "source": [
    "## Part 2 for Question B:"
   ]
  },
  {
   "cell_type": "code",
   "execution_count": 38,
   "metadata": {},
   "outputs": [],
   "source": [
    "data_food_type=data[['CUISINE DESCRIPTION','GRADE','SCORE']]#data subset 2, to examine question 2"
   ]
  },
  {
   "cell_type": "code",
   "execution_count": 39,
   "metadata": {},
   "outputs": [
    {
     "data": {
      "text/html": [
       "<div>\n",
       "<style scoped>\n",
       "    .dataframe tbody tr th:only-of-type {\n",
       "        vertical-align: middle;\n",
       "    }\n",
       "\n",
       "    .dataframe tbody tr th {\n",
       "        vertical-align: top;\n",
       "    }\n",
       "\n",
       "    .dataframe thead th {\n",
       "        text-align: right;\n",
       "    }\n",
       "</style>\n",
       "<table border=\"1\" class=\"dataframe\">\n",
       "  <thead>\n",
       "    <tr style=\"text-align: right;\">\n",
       "      <th></th>\n",
       "      <th>CUISINE DESCRIPTION</th>\n",
       "      <th>GRADE</th>\n",
       "      <th>SCORE</th>\n",
       "    </tr>\n",
       "  </thead>\n",
       "  <tbody>\n",
       "    <tr>\n",
       "      <th>1</th>\n",
       "      <td>Indian</td>\n",
       "      <td>A</td>\n",
       "      <td>7.0</td>\n",
       "    </tr>\n",
       "    <tr>\n",
       "      <th>4</th>\n",
       "      <td>CafÃ©/Coffee/Tea</td>\n",
       "      <td>A</td>\n",
       "      <td>7.0</td>\n",
       "    </tr>\n",
       "    <tr>\n",
       "      <th>5</th>\n",
       "      <td>Vegetarian</td>\n",
       "      <td>A</td>\n",
       "      <td>7.0</td>\n",
       "    </tr>\n",
       "    <tr>\n",
       "      <th>6</th>\n",
       "      <td>CafÃ©/Coffee/Tea</td>\n",
       "      <td>A</td>\n",
       "      <td>3.0</td>\n",
       "    </tr>\n",
       "    <tr>\n",
       "      <th>10</th>\n",
       "      <td>Spanish</td>\n",
       "      <td>A</td>\n",
       "      <td>11.0</td>\n",
       "    </tr>\n",
       "  </tbody>\n",
       "</table>\n",
       "</div>"
      ],
      "text/plain": [
       "   CUISINE DESCRIPTION GRADE  SCORE\n",
       "1               Indian     A    7.0\n",
       "4     CafÃ©/Coffee/Tea     A    7.0\n",
       "5           Vegetarian     A    7.0\n",
       "6     CafÃ©/Coffee/Tea     A    3.0\n",
       "10             Spanish     A   11.0"
      ]
     },
     "execution_count": 39,
     "metadata": {},
     "output_type": "execute_result"
    }
   ],
   "source": [
    "data_food_type.head()"
   ]
  },
  {
   "cell_type": "code",
   "execution_count": 40,
   "metadata": {},
   "outputs": [
    {
     "data": {
      "text/plain": [
       "CUISINE DESCRIPTION     object\n",
       "GRADE                   object\n",
       "SCORE                  float64\n",
       "dtype: object"
      ]
     },
     "execution_count": 40,
     "metadata": {},
     "output_type": "execute_result"
    }
   ],
   "source": [
    "data_food_type.dtypes"
   ]
  },
  {
   "cell_type": "markdown",
   "metadata": {},
   "source": [
    "## Half of Part 2 and Part 3 for Question B,\n",
    "we do the same thing as in Question A"
   ]
  },
  {
   "cell_type": "code",
   "execution_count": 41,
   "metadata": {},
   "outputs": [
    {
     "name": "stderr",
     "output_type": "stream",
     "text": [
      "/home/kexin/miniconda3/lib/python3.6/site-packages/ipykernel_launcher.py:1: SettingWithCopyWarning: \n",
      "A value is trying to be set on a copy of a slice from a DataFrame.\n",
      "Try using .loc[row_indexer,col_indexer] = value instead\n",
      "\n",
      "See the caveats in the documentation: http://pandas.pydata.org/pandas-docs/stable/indexing.html#indexing-view-versus-copy\n",
      "  \"\"\"Entry point for launching an IPython kernel.\n",
      "/home/kexin/miniconda3/lib/python3.6/site-packages/ipykernel_launcher.py:3: SettingWithCopyWarning: \n",
      "A value is trying to be set on a copy of a slice from a DataFrame.\n",
      "Try using .loc[row_indexer,col_indexer] = value instead\n",
      "\n",
      "See the caveats in the documentation: http://pandas.pydata.org/pandas-docs/stable/indexing.html#indexing-view-versus-copy\n",
      "  This is separate from the ipykernel package so we can avoid doing imports until\n"
     ]
    },
    {
     "data": {
      "text/plain": [
       "(array([46., 12.,  7.,  2.,  0.,  1.,  1.,  3.,  9.,  1.]),\n",
       " array([0.00314789, 0.24362007, 0.48409225, 0.72456443, 0.96503661,\n",
       "        1.20550879, 1.44598097, 1.68645315, 1.92692533, 2.16739751,\n",
       "        2.4078697 ]),\n",
       " <a list of 10 Patch objects>)"
      ]
     },
     "execution_count": 41,
     "metadata": {},
     "output_type": "execute_result"
    },
    {
     "data": {
      "image/png": "[encoded data removed]",
      "text/plain": [
       "<Figure size 432x288 with 1 Axes>"
      ]
     },
     "metadata": {},
     "output_type": "display_data"
    }
   ],
   "source": [
    "data_food_type['GRADE'] = data_food_type['GRADE'].astype('category')\n",
    "\n",
    "data_food_type['GRADE_Encode'] = data_food_type['GRADE'].cat.codes\n",
    "\n",
    "data_food_type['GRADE_Encode'].value_counts()\n",
    "\n",
    "food_arr=data_food_type['CUISINE DESCRIPTION'].unique()\n",
    "                                                         \n",
    "dict_f={key: [0,0,0,0,0] for key in food_arr}\n",
    "                                                         \n",
    "def food_add(row):\n",
    "    dict_f[row['CUISINE DESCRIPTION']][row['GRADE_Encode']]+=1\n",
    "\n",
    "x=data_food_type.apply(lambda x: food_add(x), axis=1)\n",
    "\n",
    "food_dist=pd.DataFrame.from_dict(dict_f,orient='index',columns=data_food_type['GRADE'].unique())\n",
    "\n",
    "food_dist.to_csv('data_cleaned2.csv')\n",
    "\n",
    "data2=food_dist\n",
    "\n",
    "sum_food=food_dist.sum(axis=1)\n",
    "\n",
    "food_dist=food_dist.apply(lambda x:x/float(sum(x)), axis=1)\n",
    "\n",
    "food_kl=food_dist.apply(lambda row: kl(row.values,q), axis=1)\n",
    "\n",
    "plt.hist(food_kl.values)"
   ]
  },
  {
   "cell_type": "markdown",
   "metadata": {},
   "source": [
    "## Extra Credit 4, Visualization 2"
   ]
  },
  {
   "cell_type": "markdown",
   "metadata": {},
   "source": [
    "## We can see food type is less correlated"
   ]
  },
  {
   "cell_type": "code",
   "execution_count": 42,
   "metadata": {},
   "outputs": [
    {
     "data": {
      "text/html": [
       "<div>\n",
       "<style scoped>\n",
       "    .dataframe tbody tr th:only-of-type {\n",
       "        vertical-align: middle;\n",
       "    }\n",
       "\n",
       "    .dataframe tbody tr th {\n",
       "        vertical-align: top;\n",
       "    }\n",
       "\n",
       "    .dataframe thead th {\n",
       "        text-align: right;\n",
       "    }\n",
       "</style>\n",
       "<table border=\"1\" class=\"dataframe\">\n",
       "  <thead>\n",
       "    <tr style=\"text-align: right;\">\n",
       "      <th></th>\n",
       "      <th>A</th>\n",
       "      <th>B</th>\n",
       "      <th>C</th>\n",
       "      <th>Z</th>\n",
       "      <th>P</th>\n",
       "    </tr>\n",
       "  </thead>\n",
       "  <tbody>\n",
       "    <tr>\n",
       "      <th>Indian</th>\n",
       "      <td>0.673328</td>\n",
       "      <td>0.171407</td>\n",
       "      <td>0.096080</td>\n",
       "      <td>0.027671</td>\n",
       "      <td>0.031514</td>\n",
       "    </tr>\n",
       "    <tr>\n",
       "      <th>CafÃ©/Coffee/Tea</th>\n",
       "      <td>0.912950</td>\n",
       "      <td>0.044405</td>\n",
       "      <td>0.016041</td>\n",
       "      <td>0.008216</td>\n",
       "      <td>0.018388</td>\n",
       "    </tr>\n",
       "    <tr>\n",
       "      <th>Vegetarian</th>\n",
       "      <td>0.853712</td>\n",
       "      <td>0.093886</td>\n",
       "      <td>0.021834</td>\n",
       "      <td>0.008734</td>\n",
       "      <td>0.021834</td>\n",
       "    </tr>\n",
       "    <tr>\n",
       "      <th>Spanish</th>\n",
       "      <td>0.708333</td>\n",
       "      <td>0.154167</td>\n",
       "      <td>0.055208</td>\n",
       "      <td>0.011458</td>\n",
       "      <td>0.070833</td>\n",
       "    </tr>\n",
       "    <tr>\n",
       "      <th>Sandwiches</th>\n",
       "      <td>0.919105</td>\n",
       "      <td>0.043890</td>\n",
       "      <td>0.014630</td>\n",
       "      <td>0.010327</td>\n",
       "      <td>0.012048</td>\n",
       "    </tr>\n",
       "    <tr>\n",
       "      <th>American</th>\n",
       "      <td>0.844577</td>\n",
       "      <td>0.098617</td>\n",
       "      <td>0.031917</td>\n",
       "      <td>0.006178</td>\n",
       "      <td>0.018712</td>\n",
       "    </tr>\n",
       "    <tr>\n",
       "      <th>Salads</th>\n",
       "      <td>0.938667</td>\n",
       "      <td>0.029333</td>\n",
       "      <td>0.000000</td>\n",
       "      <td>0.002667</td>\n",
       "      <td>0.029333</td>\n",
       "    </tr>\n",
       "    <tr>\n",
       "      <th>Vietnamese/Cambodian/Malaysia</th>\n",
       "      <td>0.689855</td>\n",
       "      <td>0.211594</td>\n",
       "      <td>0.069565</td>\n",
       "      <td>0.002899</td>\n",
       "      <td>0.026087</td>\n",
       "    </tr>\n",
       "    <tr>\n",
       "      <th>Latin (Cuban, Dominican, Puerto Rican, South &amp; Central American)</th>\n",
       "      <td>0.656382</td>\n",
       "      <td>0.213551</td>\n",
       "      <td>0.081670</td>\n",
       "      <td>0.012099</td>\n",
       "      <td>0.036298</td>\n",
       "    </tr>\n",
       "    <tr>\n",
       "      <th>Bakery</th>\n",
       "      <td>0.787493</td>\n",
       "      <td>0.134916</td>\n",
       "      <td>0.034742</td>\n",
       "      <td>0.015055</td>\n",
       "      <td>0.027794</td>\n",
       "    </tr>\n",
       "  </tbody>\n",
       "</table>\n",
       "</div>"
      ],
      "text/plain": [
       "                                                           A         B  \\\n",
       "Indian                                              0.673328  0.171407   \n",
       "CafÃ©/Coffee/Tea                                    0.912950  0.044405   \n",
       "Vegetarian                                          0.853712  0.093886   \n",
       "Spanish                                             0.708333  0.154167   \n",
       "Sandwiches                                          0.919105  0.043890   \n",
       "American                                            0.844577  0.098617   \n",
       "Salads                                              0.938667  0.029333   \n",
       "Vietnamese/Cambodian/Malaysia                       0.689855  0.211594   \n",
       "Latin (Cuban, Dominican, Puerto Rican, South & ...  0.656382  0.213551   \n",
       "Bakery                                              0.787493  0.134916   \n",
       "\n",
       "                                                           C         Z  \\\n",
       "Indian                                              0.096080  0.027671   \n",
       "CafÃ©/Coffee/Tea                                    0.016041  0.008216   \n",
       "Vegetarian                                          0.021834  0.008734   \n",
       "Spanish                                             0.055208  0.011458   \n",
       "Sandwiches                                          0.014630  0.010327   \n",
       "American                                            0.031917  0.006178   \n",
       "Salads                                              0.000000  0.002667   \n",
       "Vietnamese/Cambodian/Malaysia                       0.069565  0.002899   \n",
       "Latin (Cuban, Dominican, Puerto Rican, South & ...  0.081670  0.012099   \n",
       "Bakery                                              0.034742  0.015055   \n",
       "\n",
       "                                                           P  \n",
       "Indian                                              0.031514  \n",
       "CafÃ©/Coffee/Tea                                    0.018388  \n",
       "Vegetarian                                          0.021834  \n",
       "Spanish                                             0.070833  \n",
       "Sandwiches                                          0.012048  \n",
       "American                                            0.018712  \n",
       "Salads                                              0.029333  \n",
       "Vietnamese/Cambodian/Malaysia                       0.026087  \n",
       "Latin (Cuban, Dominican, Puerto Rican, South & ...  0.036298  \n",
       "Bakery                                              0.027794  "
      ]
     },
     "execution_count": 42,
     "metadata": {},
     "output_type": "execute_result"
    }
   ],
   "source": [
    "food_dist.head(10)"
   ]
  },
  {
   "cell_type": "code",
   "execution_count": 43,
   "metadata": {},
   "outputs": [
    {
     "data": {
      "text/plain": [
       "(82, 5)"
      ]
     },
     "execution_count": 43,
     "metadata": {},
     "output_type": "execute_result"
    }
   ],
   "source": [
    "food_dist.shape"
   ]
  },
  {
   "cell_type": "markdown",
   "metadata": {},
   "source": [
    "## some stats"
   ]
  },
  {
   "cell_type": "code",
   "execution_count": 44,
   "metadata": {},
   "outputs": [
    {
     "data": {
      "text/html": [
       "<div>\n",
       "<style scoped>\n",
       "    .dataframe tbody tr th:only-of-type {\n",
       "        vertical-align: middle;\n",
       "    }\n",
       "\n",
       "    .dataframe tbody tr th {\n",
       "        vertical-align: top;\n",
       "    }\n",
       "\n",
       "    .dataframe thead th {\n",
       "        text-align: right;\n",
       "    }\n",
       "</style>\n",
       "<table border=\"1\" class=\"dataframe\">\n",
       "  <thead>\n",
       "    <tr style=\"text-align: right;\">\n",
       "      <th></th>\n",
       "      <th>A</th>\n",
       "      <th>B</th>\n",
       "      <th>C</th>\n",
       "      <th>Z</th>\n",
       "      <th>P</th>\n",
       "    </tr>\n",
       "  </thead>\n",
       "  <tbody>\n",
       "    <tr>\n",
       "      <th>count</th>\n",
       "      <td>82.000000</td>\n",
       "      <td>82.000000</td>\n",
       "      <td>82.000000</td>\n",
       "      <td>82.000000</td>\n",
       "      <td>82.000000</td>\n",
       "    </tr>\n",
       "    <tr>\n",
       "      <th>mean</th>\n",
       "      <td>0.807124</td>\n",
       "      <td>0.106431</td>\n",
       "      <td>0.042081</td>\n",
       "      <td>0.013932</td>\n",
       "      <td>0.030432</td>\n",
       "    </tr>\n",
       "    <tr>\n",
       "      <th>std</th>\n",
       "      <td>0.144051</td>\n",
       "      <td>0.083312</td>\n",
       "      <td>0.080817</td>\n",
       "      <td>0.018139</td>\n",
       "      <td>0.046782</td>\n",
       "    </tr>\n",
       "    <tr>\n",
       "      <th>min</th>\n",
       "      <td>0.250000</td>\n",
       "      <td>0.000000</td>\n",
       "      <td>0.000000</td>\n",
       "      <td>0.000000</td>\n",
       "      <td>0.000000</td>\n",
       "    </tr>\n",
       "    <tr>\n",
       "      <th>25%</th>\n",
       "      <td>0.729302</td>\n",
       "      <td>0.051068</td>\n",
       "      <td>0.000000</td>\n",
       "      <td>0.000000</td>\n",
       "      <td>0.000000</td>\n",
       "    </tr>\n",
       "    <tr>\n",
       "      <th>50%</th>\n",
       "      <td>0.842034</td>\n",
       "      <td>0.094113</td>\n",
       "      <td>0.024294</td>\n",
       "      <td>0.009371</td>\n",
       "      <td>0.018550</td>\n",
       "    </tr>\n",
       "    <tr>\n",
       "      <th>75%</th>\n",
       "      <td>0.902252</td>\n",
       "      <td>0.145541</td>\n",
       "      <td>0.045266</td>\n",
       "      <td>0.015959</td>\n",
       "      <td>0.032249</td>\n",
       "    </tr>\n",
       "    <tr>\n",
       "      <th>max</th>\n",
       "      <td>1.000000</td>\n",
       "      <td>0.378109</td>\n",
       "      <td>0.545455</td>\n",
       "      <td>0.080000</td>\n",
       "      <td>0.234568</td>\n",
       "    </tr>\n",
       "  </tbody>\n",
       "</table>\n",
       "</div>"
      ],
      "text/plain": [
       "               A          B          C          Z          P\n",
       "count  82.000000  82.000000  82.000000  82.000000  82.000000\n",
       "mean    0.807124   0.106431   0.042081   0.013932   0.030432\n",
       "std     0.144051   0.083312   0.080817   0.018139   0.046782\n",
       "min     0.250000   0.000000   0.000000   0.000000   0.000000\n",
       "25%     0.729302   0.051068   0.000000   0.000000   0.000000\n",
       "50%     0.842034   0.094113   0.024294   0.009371   0.018550\n",
       "75%     0.902252   0.145541   0.045266   0.015959   0.032249\n",
       "max     1.000000   0.378109   0.545455   0.080000   0.234568"
      ]
     },
     "execution_count": 44,
     "metadata": {},
     "output_type": "execute_result"
    }
   ],
   "source": [
    "food_dist.describe()"
   ]
  },
  {
   "cell_type": "code",
   "execution_count": 45,
   "metadata": {},
   "outputs": [],
   "source": [
    "data_date=data[['INSPECTION DATE','GRADE','SCORE']] # data subset 3, to answer question 3"
   ]
  },
  {
   "cell_type": "code",
   "execution_count": 46,
   "metadata": {},
   "outputs": [
    {
     "data": {
      "text/html": [
       "<div>\n",
       "<style scoped>\n",
       "    .dataframe tbody tr th:only-of-type {\n",
       "        vertical-align: middle;\n",
       "    }\n",
       "\n",
       "    .dataframe tbody tr th {\n",
       "        vertical-align: top;\n",
       "    }\n",
       "\n",
       "    .dataframe thead th {\n",
       "        text-align: right;\n",
       "    }\n",
       "</style>\n",
       "<table border=\"1\" class=\"dataframe\">\n",
       "  <thead>\n",
       "    <tr style=\"text-align: right;\">\n",
       "      <th></th>\n",
       "      <th>INSPECTION DATE</th>\n",
       "      <th>GRADE</th>\n",
       "      <th>SCORE</th>\n",
       "    </tr>\n",
       "  </thead>\n",
       "  <tbody>\n",
       "    <tr>\n",
       "      <th>1</th>\n",
       "      <td>03/15/2016</td>\n",
       "      <td>A</td>\n",
       "      <td>7.0</td>\n",
       "    </tr>\n",
       "    <tr>\n",
       "      <th>4</th>\n",
       "      <td>05/13/2016</td>\n",
       "      <td>A</td>\n",
       "      <td>7.0</td>\n",
       "    </tr>\n",
       "    <tr>\n",
       "      <th>5</th>\n",
       "      <td>07/02/2018</td>\n",
       "      <td>A</td>\n",
       "      <td>7.0</td>\n",
       "    </tr>\n",
       "    <tr>\n",
       "      <th>6</th>\n",
       "      <td>02/07/2018</td>\n",
       "      <td>A</td>\n",
       "      <td>3.0</td>\n",
       "    </tr>\n",
       "    <tr>\n",
       "      <th>10</th>\n",
       "      <td>02/16/2018</td>\n",
       "      <td>A</td>\n",
       "      <td>11.0</td>\n",
       "    </tr>\n",
       "  </tbody>\n",
       "</table>\n",
       "</div>"
      ],
      "text/plain": [
       "   INSPECTION DATE GRADE  SCORE\n",
       "1       03/15/2016     A    7.0\n",
       "4       05/13/2016     A    7.0\n",
       "5       07/02/2018     A    7.0\n",
       "6       02/07/2018     A    3.0\n",
       "10      02/16/2018     A   11.0"
      ]
     },
     "execution_count": 46,
     "metadata": {},
     "output_type": "execute_result"
    }
   ],
   "source": [
    "data_date.head()"
   ]
  },
  {
   "cell_type": "markdown",
   "metadata": {},
   "source": [
    "## Question C, we uses a simple Multi Level Perceptron as the model. Then each row is a data point with three features: inspection date, food type and zipcode. We separate 8:2 for train:test (val is omitted here because I am not going to tune any big parameter (hidden size...) due to time constraint, but sklearn actually automatically generates validation set to tune on small parameters...) "
   ]
  },
  {
   "cell_type": "code",
   "execution_count": 47,
   "metadata": {},
   "outputs": [],
   "source": [
    "from sklearn.neural_network import MLPClassifier"
   ]
  },
  {
   "cell_type": "code",
   "execution_count": 48,
   "metadata": {},
   "outputs": [],
   "source": [
    "data_nn_x=data[['ZIPCODE','INSPECTION DATE','CUISINE DESCRIPTION']]"
   ]
  },
  {
   "cell_type": "code",
   "execution_count": 49,
   "metadata": {},
   "outputs": [],
   "source": [
    "data_nn_x = data_nn_x.astype('category')"
   ]
  },
  {
   "cell_type": "code",
   "execution_count": 50,
   "metadata": {},
   "outputs": [
    {
     "data": {
      "text/plain": [
       "ZIPCODE                category\n",
       "INSPECTION DATE        category\n",
       "CUISINE DESCRIPTION    category\n",
       "dtype: object"
      ]
     },
     "execution_count": 50,
     "metadata": {},
     "output_type": "execute_result"
    }
   ],
   "source": [
    "data_nn_x.dtypes"
   ]
  },
  {
   "cell_type": "markdown",
   "metadata": {},
   "source": [
    "### Change to categorical values"
   ]
  },
  {
   "cell_type": "code",
   "execution_count": 51,
   "metadata": {},
   "outputs": [],
   "source": [
    "data_nn_x['ZIPCODE'] = data_nn_x['ZIPCODE'].cat.codes\n",
    "data_nn_x['INSPECTION DATE'] = data_nn_x['INSPECTION DATE'].cat.codes\n",
    "data_nn_x['CUISINE DESCRIPTION'] = data_nn_x['CUISINE DESCRIPTION'].cat.codes"
   ]
  },
  {
   "cell_type": "code",
   "execution_count": 52,
   "metadata": {},
   "outputs": [],
   "source": [
    "nn_x=data_nn_x.values #3 features "
   ]
  },
  {
   "cell_type": "code",
   "execution_count": 62,
   "metadata": {},
   "outputs": [
    {
     "data": {
      "text/html": [
       "<div>\n",
       "<style scoped>\n",
       "    .dataframe tbody tr th:only-of-type {\n",
       "        vertical-align: middle;\n",
       "    }\n",
       "\n",
       "    .dataframe tbody tr th {\n",
       "        vertical-align: top;\n",
       "    }\n",
       "\n",
       "    .dataframe thead th {\n",
       "        text-align: right;\n",
       "    }\n",
       "</style>\n",
       "<table border=\"1\" class=\"dataframe\">\n",
       "  <thead>\n",
       "    <tr style=\"text-align: right;\">\n",
       "      <th></th>\n",
       "      <th>ZIPCODE</th>\n",
       "      <th>INSPECTION DATE</th>\n",
       "      <th>CUISINE DESCRIPTION</th>\n",
       "    </tr>\n",
       "  </thead>\n",
       "  <tbody>\n",
       "    <tr>\n",
       "      <th>1</th>\n",
       "      <td>17</td>\n",
       "      <td>217</td>\n",
       "      <td>39</td>\n",
       "    </tr>\n",
       "    <tr>\n",
       "      <th>4</th>\n",
       "      <td>45</td>\n",
       "      <td>406</td>\n",
       "      <td>13</td>\n",
       "    </tr>\n",
       "    <tr>\n",
       "      <th>5</th>\n",
       "      <td>9</td>\n",
       "      <td>570</td>\n",
       "      <td>80</td>\n",
       "    </tr>\n",
       "    <tr>\n",
       "      <th>6</th>\n",
       "      <td>2</td>\n",
       "      <td>109</td>\n",
       "      <td>13</td>\n",
       "    </tr>\n",
       "    <tr>\n",
       "      <th>10</th>\n",
       "      <td>31</td>\n",
       "      <td>136</td>\n",
       "      <td>74</td>\n",
       "    </tr>\n",
       "  </tbody>\n",
       "</table>\n",
       "</div>"
      ],
      "text/plain": [
       "    ZIPCODE  INSPECTION DATE  CUISINE DESCRIPTION\n",
       "1        17              217                   39\n",
       "4        45              406                   13\n",
       "5         9              570                   80\n",
       "6         2              109                   13\n",
       "10       31              136                   74"
      ]
     },
     "execution_count": 62,
     "metadata": {},
     "output_type": "execute_result"
    }
   ],
   "source": [
    "data_nn_x.head()"
   ]
  },
  {
   "cell_type": "code",
   "execution_count": 53,
   "metadata": {},
   "outputs": [],
   "source": [
    "nn_y=data['GRADE'].astype('category').cat.codes.values"
   ]
  },
  {
   "cell_type": "code",
   "execution_count": 54,
   "metadata": {},
   "outputs": [
    {
     "data": {
      "text/plain": [
       "array([0, 0, 0, ..., 0, 0, 4], dtype=int8)"
      ]
     },
     "execution_count": 54,
     "metadata": {},
     "output_type": "execute_result"
    }
   ],
   "source": [
    "nn_y"
   ]
  },
  {
   "cell_type": "code",
   "execution_count": 55,
   "metadata": {},
   "outputs": [],
   "source": [
    "from sklearn.model_selection import train_test_split"
   ]
  },
  {
   "cell_type": "code",
   "execution_count": 56,
   "metadata": {},
   "outputs": [],
   "source": [
    "X_train, X_test, y_train, y_test = train_test_split(\n",
    "...     nn_x, nn_y, test_size=0.2, random_state=42)"
   ]
  },
  {
   "cell_type": "code",
   "execution_count": 57,
   "metadata": {},
   "outputs": [],
   "source": [
    "clf = MLPClassifier(solver='lbfgs', alpha=1e-5,\n",
    "...                     hidden_layer_sizes=(5, 3), random_state=1)"
   ]
  },
  {
   "cell_type": "code",
   "execution_count": 58,
   "metadata": {
    "scrolled": true
   },
   "outputs": [
    {
     "data": {
      "text/plain": [
       "MLPClassifier(activation='relu', alpha=1e-05, batch_size='auto', beta_1=0.9,\n",
       "       beta_2=0.999, early_stopping=False, epsilon=1e-08,\n",
       "       hidden_layer_sizes=(5, 3), learning_rate='constant',\n",
       "       learning_rate_init=0.001, max_iter=200, momentum=0.9,\n",
       "       nesterovs_momentum=True, power_t=0.5, random_state=1, shuffle=True,\n",
       "       solver='lbfgs', tol=0.0001, validation_fraction=0.1, verbose=False,\n",
       "       warm_start=False)"
      ]
     },
     "execution_count": 58,
     "metadata": {},
     "output_type": "execute_result"
    }
   ],
   "source": [
    "clf.fit(X_train, y_train) "
   ]
  },
  {
   "cell_type": "code",
   "execution_count": 59,
   "metadata": {},
   "outputs": [],
   "source": [
    "y_predict=clf.predict(X_test)"
   ]
  },
  {
   "cell_type": "code",
   "execution_count": 60,
   "metadata": {},
   "outputs": [],
   "source": [
    "acc=sum(y_predict==y_test)/len(y_predict)"
   ]
  },
  {
   "cell_type": "code",
   "execution_count": 61,
   "metadata": {},
   "outputs": [
    {
     "data": {
      "text/plain": [
       "0.807812812479168"
      ]
     },
     "execution_count": 61,
     "metadata": {},
     "output_type": "execute_result"
    }
   ],
   "source": [
    "acc"
   ]
  },
  {
   "cell_type": "markdown",
   "metadata": {},
   "source": [
    "# Pretty high accuracy!"
   ]
  },
  {
   "cell_type": "markdown",
   "metadata": {},
   "source": [
    "## But the tricky thing is actually, the model fails miserably... Because it predicts all 0, since 0 corresponds to A and there are 80% A. "
   ]
  },
  {
   "cell_type": "markdown",
   "metadata": {},
   "source": [
    "## This means the model finds the data gives A all the time no matter how features change. This either has two explanations:\n",
    "1. The model is bad\n",
    "2. These features are bad\n",
    "\n",
    "So the answer to question C is not answered here.."
   ]
  },
  {
   "cell_type": "markdown",
   "metadata": {},
   "source": [
    "## Part 4, since I did many transformations to compute KL and it will be a nightmare to compute using excel from the start, I only include a check on stats of the zip_dist and food_dist data "
   ]
  },
  {
   "cell_type": "markdown",
   "metadata": {},
   "source": [
    "# for zip_dist, the excel result coincides with our result: https://docs.google.com/spreadsheets/d/10HteuJVwM6nmOb6fyuqBvfp81h5efrF_xxdr1vkK2GU/edit?usp=sharing"
   ]
  },
  {
   "cell_type": "markdown",
   "metadata": {},
   "source": [
    "## Same case for food_dist, the excel result coincides with ours:\n",
    "https://docs.google.com/spreadsheets/d/1jVq-Gzs1mT1J3VQP-wNtmSXxvv0Xi1_gRrWp61XZrQA/edit?usp=sharing"
   ]
  },
  {
   "cell_type": "code",
   "execution_count": null,
   "metadata": {},
   "outputs": [],
   "source": []
  }
 ],
 "metadata": {
  "kernelspec": {
   "display_name": "Python 3",
   "language": "python",
   "name": "python3"
  },
  "language_info": {
   "codemirror_mode": {
    "name": "ipython",
    "version": 3
   },
   "file_extension": ".py",
   "mimetype": "text/x-python",
   "name": "python",
   "nbconvert_exporter": "python",
   "pygments_lexer": "ipython3",
   "version": "3.6.5"
  }
 },
 "nbformat": 4,
 "nbformat_minor": 2
}
